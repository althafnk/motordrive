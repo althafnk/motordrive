{
  "nbformat": 4,
  "nbformat_minor": 0,
  "metadata": {
    "colab": {
      "provenance": [],
      "authorship_tag": "ABX9TyPRp9ASBdShV4i9z0aQSxsX",
      "include_colab_link": true
    },
    "kernelspec": {
      "name": "python3",
      "display_name": "Python 3"
    },
    "language_info": {
      "name": "python"
    }
  },
  "cells": [
    {
      "cell_type": "markdown",
      "metadata": {
        "id": "view-in-github",
        "colab_type": "text"
      },
      "source": [
        "<a href=\"https://colab.research.google.com/github/althafnk/motordrive/blob/main/nimesa_assignment.ipynb\" target=\"_parent\"><img src=\"https://colab.research.google.com/assets/colab-badge.svg\" alt=\"Open In Colab\"/></a>"
      ]
    },
    {
      "cell_type": "code",
      "execution_count": null,
      "metadata": {
        "colab": {
          "base_uri": "https://localhost:8080/"
        },
        "id": "d8gr2iUMOl8f",
        "outputId": "f951767e-8433-4d49-e225-c6f3f92e3fe6"
      },
      "outputs": [
        {
          "output_type": "stream",
          "name": "stdout",
          "text": [
            "Press value \n",
            " 1. Get weather \n",
            " 2. Get Wind Speed \n",
            " 3. Get Pressure \n",
            " 0. Exit\n",
            "2\n",
            "Enter date (formte: YYYY-MM-DD HH:MM:SS) : 2019-03-27 18:00:00\n",
            "wind speed: 1.6\n"
          ]
        }
      ],
      "source": [
        "import requests\n",
        "import json\n",
        "import pandas as pd\n",
        "response = requests.get(\"https://samples.openweathermap.org/data/2.5/forecast/hourly?q=London,us&appid=b6907d289e10d714a6e88b30761fae22\")\n",
        "data= json.loads(response.text)\n",
        "list_data=data['list']\n",
        "l=True\n",
        "while(l):\n",
        "  n=input(\"Press value \\n 1. Get weather \\n 2. Get Wind Speed \\n 3. Get Pressure \\n 0. Exit\\n\")\n",
        "  if(n==\"1\"):\n",
        "    k=input(\"Enter date (format: YYYY-MM-DD HH:MM:SS) : \")\n",
        "    for i in range (len(list_data)):\n",
        "      if(list_data[i]['dt_txt']==k):\n",
        "        print(\"Temperature:\",list_data[i]['main']['temp'])\n",
        "        break\n",
        "  elif(n==\"2\"):\n",
        "    k=input(\"Enter date (formte: YYYY-MM-DD HH:MM:SS) : \")\n",
        "    for i in range (len(list_data)):\n",
        "      if(list_data[i]['dt_txt']==k):\n",
        "        print(\"wind speed:\",list_data[i]['wind']['speed'])\n",
        "        break\n",
        "  elif(n==\"3\"):\n",
        "    k=input(\"Enter date (formte: YYYY-MM-DD HH:MM:SS) : \")\n",
        "    for i in range (len(list_data)):\n",
        "      if(list_data[i]['dt_txt']==k):\n",
        "        print(\"Pressure:\",list_data[i]['main']['pressure'])\n",
        "        break\n",
        "  elif(n==\"0\"):\n",
        "    print(\"Exit\")\n",
        "    l=False\n",
        "  else:\n",
        "    print(\"Enter A valid Number\")\n",
        "\n",
        "\n",
        "\n",
        "\n",
        "\n",
        "\n",
        "\n",
        "\n",
        "\n"
      ]
    },
    {
      "cell_type": "code",
      "source": [],
      "metadata": {
        "id": "kv9eFLKZPCSb"
      },
      "execution_count": null,
      "outputs": []
    }
  ]
}